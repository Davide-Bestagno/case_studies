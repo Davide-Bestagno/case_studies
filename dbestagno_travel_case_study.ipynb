{
 "cells": [
  {
   "cell_type": "markdown",
   "metadata": {},
   "source": [
    "# Import Required Libraries"
   ]
  },
  {
   "cell_type": "code",
   "execution_count": null,
   "metadata": {},
   "outputs": [],
   "source": [
    "# Import Required Libraries\n",
    "\n",
    "import pandas as pd\n",
    "import numpy as np\n",
    "import matplotlib.pyplot as plt\n",
    "import seaborn as sns\n",
    "import statsmodels.api as sm\n",
    "\n",
    "from sklearn.preprocessing import OneHotEncoder\n",
    "from sklearn.compose import ColumnTransformer\n",
    "from sklearn.metrics import r2_score\n",
    "from sklearn.preprocessing import StandardScaler\n",
    "from sklearn.ensemble import RandomForestRegressor"
   ]
  },
  {
   "cell_type": "markdown",
   "metadata": {},
   "source": [
    "# Loading the Dataset"
   ]
  },
  {
   "cell_type": "code",
   "execution_count": null,
   "metadata": {},
   "outputs": [],
   "source": [
    "data = pd.read_csv('Marketing_Analytics_Insights_Case_Study_Dataset.csv')\n",
    "data.head()"
   ]
  },
  {
   "cell_type": "markdown",
   "metadata": {},
   "source": [
    "# Data Cleaning"
   ]
  },
  {
   "cell_type": "code",
   "execution_count": null,
   "metadata": {},
   "outputs": [],
   "source": [
    "# Check for missing values in the dataset\n",
    "data.isnull().sum()"
   ]
  },
  {
   "cell_type": "code",
   "execution_count": null,
   "metadata": {},
   "outputs": [],
   "source": [
    "# Removing data from imaginary date\n",
    "data = data[data['Date'] != '2017-02-29']\n",
    "\n",
    "# Correct data types\n",
    "data['Date'] = pd.to_datetime(data['Date'], format = \"%d/%m/%Y\")  # Convert 'Date' column to datetime\n",
    "\n",
    "data.head()"
   ]
  },
  {
   "cell_type": "code",
   "execution_count": null,
   "metadata": {},
   "outputs": [],
   "source": [
    "data.info()"
   ]
  },
  {
   "cell_type": "markdown",
   "metadata": {},
   "source": [
    "# Descriptive Statistics"
   ]
  },
  {
   "cell_type": "code",
   "execution_count": null,
   "metadata": {},
   "outputs": [],
   "source": [
    "data.describe()"
   ]
  },
  {
   "cell_type": "markdown",
   "metadata": {},
   "source": [
    "# Key Metrics"
   ]
  },
  {
   "cell_type": "code",
   "execution_count": null,
   "metadata": {},
   "outputs": [],
   "source": [
    "# Sum Net Room Nights by Date\n",
    "net_room_nights_by_date = data.groupby('Date')['Net Room Nights'].sum().reset_index()\n",
    "\n",
    "# # Daily plot for Net Room Nights\n",
    "# plt.figure(figsize=(14, 8))\n",
    "# plt.plot(net_room_nights_by_date['Date'], net_room_nights_by_date['Net Room Nights'])\n",
    "# plt.title('Net Room Nights Over Time')\n",
    "# plt.xlabel('Date')\n",
    "# plt.ylabel('Net Room Nights')\n",
    "# plt.xticks(rotation=45)\n",
    "# plt.grid(True)\n",
    "# plt.show()\n",
    "\n",
    "# Resample and sum Net Room Nights by week\n",
    "data.set_index('Date', inplace=True)\n",
    "net_room_nights_by_week = data['Net Room Nights'].resample('W').sum().reset_index()\n",
    "\n",
    "# Plot the timeseries for Net Room Nights\n",
    "plt.figure(figsize=(20, 6))\n",
    "plt.plot(net_room_nights_by_week['Date'], net_room_nights_by_week['Net Room Nights'])\n",
    "plt.title('Net Room Nights by Week')\n",
    "plt.xlabel('Week')\n",
    "plt.ylabel('Net Room Nights')\n",
    "plt.xticks(rotation=45)\n",
    "plt.grid(True)\n",
    "plt.tight_layout()  # Adjust layout to prevent cut-off labels\n",
    "plt.show()\n",
    "\n",
    "data.reset_index(inplace=True)\n"
   ]
  },
  {
   "cell_type": "code",
   "execution_count": null,
   "metadata": {},
   "outputs": [],
   "source": [
    "# Data overview by marketing channel\n",
    "metrics = ['Visits', 'Qualified Shoppers', 'Bounced Visits', 'Gross Orders', 'Net Orders', 'Net Room Nights']\n",
    "results = []\n",
    "\n",
    "# Calculate statistics for each marketing channel\n",
    "for channel in data['Marketing Channel'].unique():\n",
    "    channel_data = data[data['Marketing Channel'] == channel]\n",
    "    \n",
    "    # Calculate statistics for each metric\n",
    "    channel_stats = {\n",
    "        'Marketing Channel': channel,\n",
    "    }\n",
    "    \n",
    "    for metric in metrics:\n",
    "        channel_stats[f'{metric}_Median'] = channel_data[metric].median()\n",
    "        channel_stats[f'{metric}_Mean'] = channel_data[metric].mean()\n",
    "        channel_stats[f'{metric}_Total'] = channel_data[metric].sum()\n",
    "    \n",
    "    results.append(channel_stats)\n",
    "\n",
    "channel_stats_df = pd.DataFrame(results)\n",
    "\n",
    "# Sort by mean net room nights\n",
    "channel_stats_df = channel_stats_df.sort_values('Net Room Nights_Mean', ascending=False)\n",
    "\n",
    "numeric_cols = channel_stats_df.select_dtypes(include=['float64']).columns\n",
    "channel_stats_df[numeric_cols] = channel_stats_df[numeric_cols].round(2)\n",
    "\n",
    "channel_stats_df"
   ]
  },
  {
   "cell_type": "markdown",
   "metadata": {},
   "source": [
    "# Correlation Analysis"
   ]
  },
  {
   "cell_type": "code",
   "execution_count": null,
   "metadata": {},
   "outputs": [],
   "source": [
    "# Visualize the correlation matrix to understand relationships between variables\n",
    "plt.figure(figsize=(12, 8))\n",
    "numeric_data = data.select_dtypes(include=[np.number]) # Only keeping numerical variables for correlation\n",
    "correlation_matrix = numeric_data.corr()\n",
    "sns.heatmap(correlation_matrix, annot=True, cmap='coolwarm', linewidths=0.5)\n",
    "plt.title('Correlation Matrix')\n",
    "plt.show()"
   ]
  },
  {
   "cell_type": "markdown",
   "metadata": {},
   "source": [
    "# Segment plots"
   ]
  },
  {
   "cell_type": "code",
   "execution_count": null,
   "metadata": {},
   "outputs": [],
   "source": [
    "# Group data by Geographic Region and calculate mean Net Room Nights\n",
    "geo_region_group = data.groupby('Geographic Region')['Net Room Nights'].mean().sort_values(ascending=False)\n",
    "\n",
    "# Group data by Platform and calculate mean Net Room Nights\n",
    "platform_group = data.groupby('Platform')['Net Room Nights'].mean().sort_values(ascending=False)\n",
    "\n",
    "\n",
    "# Group data by Marketing Channel and calculate mean Net Room Nights\n",
    "marketing_channel_group = data.groupby('Marketing Channel')['Net Room Nights'].mean().sort_values(ascending=False)\n",
    "\n",
    "# Create a 2x2 grid of subplots\n",
    "fig, axs = plt.subplots(2, 2, figsize=(16, 10))\n",
    "fig.suptitle('Key Metrics Visualization', fontsize=16)\n",
    "\n",
    "# Flatten the axs array for easier indexing\n",
    "axs = axs.flatten()\n",
    "\n",
    "# 1. Histogram of 'Net Room Nights'\n",
    "sns.histplot(data['Net Room Nights'], bins=30, ax=axs[0])\n",
    "axs[0].set_title('Distribution of Net Room Nights')\n",
    "axs[0].set_xlabel('Net Room Nights')\n",
    "axs[0].set_ylabel('Frequency')\n",
    "\n",
    "# 2. Mean Net Room Nights by Geographic Region\n",
    "geo_region_group.plot(kind='bar', ax=axs[1])\n",
    "axs[1].set_title('Mean Net Room Nights by Geographic Region')\n",
    "axs[1].set_xlabel('Geographic Region')\n",
    "axs[1].set_ylabel('Mean Net Room Nights')\n",
    "\n",
    "# 3. Mean Net Room Nights by Platform\n",
    "platform_group.plot(kind='bar', ax=axs[2])\n",
    "axs[2].set_title('Mean Net Room Nights by Platform')\n",
    "axs[2].set_xlabel('Platform')\n",
    "axs[2].set_ylabel('Mean Net Room Nights')\n",
    "\n",
    "# 4. Mean Net Room Nights by Marketing Channel\n",
    "marketing_channel_group.plot(kind='bar', ax=axs[3])\n",
    "axs[3].set_title('Mean Net Room Nights by Marketing Channel')\n",
    "axs[3].set_xlabel('Marketing Channel')\n",
    "axs[3].set_ylabel('Mean Net Room Nights')\n",
    "\n",
    "# Add annotations to bar plots\n",
    "for i in range(1, 4):  # For subplots 1, 2, and 3 (index 1, 2, 3)\n",
    "    for p in axs[i].patches:\n",
    "        axs[i].annotate(f'{p.get_height():.2f}',\n",
    "                        (p.get_x() + p.get_width() / 2, p.get_height()),\n",
    "                        ha='center', va='bottom', fontsize=8, color='black')\n",
    "\n",
    "# Adjust layout and display\n",
    "plt.tight_layout()\n",
    "plt.show()"
   ]
  },
  {
   "cell_type": "code",
   "execution_count": null,
   "metadata": {},
   "outputs": [],
   "source": [
    "# Box Plots by variables\n",
    "variable = 'Bounced Visits'\n",
    "\n",
    "# Box plot of variable by 'Geographic Region'\n",
    "plt.figure(figsize=(6, 3))\n",
    "sns.boxplot(x='Geographic Region', y=variable, data=data)\n",
    "plt.title(variable + ' by Geographic Region')\n",
    "plt.xlabel('Geographic Region')\n",
    "plt.ylabel(variable)\n",
    "plt.show()\n",
    "\n",
    "# Box plot of variable by 'Platform'\n",
    "plt.figure(figsize=(6, 3))\n",
    "sns.boxplot(x='Platform', y=variable, data=data)\n",
    "plt.title(variable + ' by Platform')\n",
    "plt.xlabel('Platform')\n",
    "plt.ylabel(variable)\n",
    "plt.show()\n",
    "\n",
    "# Box plot of 'variable' by 'Marketing Channel'\n",
    "plt.figure(figsize=(6, 3))\n",
    "sns.boxplot(x='Marketing Channel', y=variable, data=data)\n",
    "plt.title(variable + ' by Marketing Channel')\n",
    "plt.xlabel('Marketing Channel')\n",
    "plt.ylabel(variable)\n",
    "plt.xticks(rotation=45)\n",
    "plt.show()"
   ]
  },
  {
   "cell_type": "code",
   "execution_count": null,
   "metadata": {},
   "outputs": [],
   "source": [
    "# Box Plots by variables\n",
    "variable = 'Bounced Visits'\n",
    "\n",
    "# Create a single figure with three stacked subplots\n",
    "fig, axes = plt.subplots(3, 1, figsize=(6, 9), sharex=False)\n",
    "\n",
    "# Box plot of variable by 'Geographic Region'\n",
    "sns.boxplot(x='Geographic Region', y=variable, data=data, ax=axes[0])\n",
    "axes[0].set_title(variable + ' by Geographic Region')\n",
    "axes[0].set_xlabel('Geographic Region')\n",
    "axes[0].set_ylabel(variable)\n",
    "axes[0].set_yscale('log')  # Set y-axis to logarithmic scale\n",
    "\n",
    "# Box plot of variable by 'Platform'\n",
    "sns.boxplot(x='Platform', y=variable, data=data, ax=axes[1])\n",
    "axes[1].set_title(variable + ' by Platform')\n",
    "axes[1].set_xlabel('Platform')\n",
    "axes[1].set_ylabel(variable)\n",
    "axes[1].set_yscale('log')  # Set y-axis to logarithmic scale\n",
    "\n",
    "# Box plot of variable by 'Marketing Channel'\n",
    "sns.boxplot(x='Marketing Channel', y=variable, data=data, ax=axes[2])\n",
    "axes[2].set_title(variable + ' by Marketing Channel')\n",
    "axes[2].set_xlabel('Marketing Channel')\n",
    "axes[2].set_ylabel(variable)\n",
    "axes[2].tick_params(axis='x', rotation=45)\n",
    "axes[2].set_yscale('log')  # Set y-axis to logarithmic scale\n",
    "\n",
    "# Adjust layout to prevent overlap\n",
    "plt.tight_layout()\n",
    "plt.show()\n"
   ]
  },
  {
   "cell_type": "markdown",
   "metadata": {},
   "source": [
    "# Regression Analysis"
   ]
  },
  {
   "cell_type": "code",
   "execution_count": null,
   "metadata": {},
   "outputs": [],
   "source": [
    "# Extract date features\n",
    "data['Day_of_Week'] = data['Date'].dt.dayofweek\n",
    "data['Day_of_Month'] = data['Date'].dt.day\n",
    "data['Month'] = data['Date'].dt.month\n",
    "data['Is_Weekend'] = (data['Day_of_Week'] >= 5).astype(int) # 5 and 6 correspond to Saturday and Sunday\n",
    "\n",
    "# Prepare features\n",
    "categorical_features = ['Geographic Region', 'Platform', 'Marketing Channel']\n",
    "numeric_features = ['Visits', 'Qualified Shoppers', 'Bounced Visits', 'Gross Orders', 'Net Orders',\n",
    "                    'Day_of_Week', 'Day_of_Month', 'Month', 'Is_Weekend']\n",
    "numeric_features_reduced = ['Visits', 'Bounced Visits',\n",
    "                    'Day_of_Week', 'Day_of_Month', 'Month', 'Is_Weekend']\n",
    "\n",
    "# Create preprocessor\n",
    "preprocessor = ColumnTransformer(\n",
    "    transformers=[\n",
    "        ('num', StandardScaler(), numeric_features),\n",
    "        ('cat', OneHotEncoder(sparse_output=False), categorical_features)\n",
    "    ])\n",
    "\n",
    "# Prepare X and y\n",
    "X = data.drop(['Date', 'Net Room Nights'], axis=1)\n",
    "# X = data.drop(['Date', 'Net Room Nights', 'Gross Orders', 'Net Orders', 'Qualified Shoppers'], axis=1)\n",
    "y = data['Net Room Nights']\n",
    "\n",
    "# Fit preprocessor\n",
    "X_processed = preprocessor.fit_transform(X)\n",
    "\n",
    "# Get feature names\n",
    "feature_names = (numeric_features + \n",
    "                 preprocessor.named_transformers_['cat']\n",
    "                 .get_feature_names_out(categorical_features).tolist())\n",
    "\n",
    "# # Fit statsmodels OLS for detailed statistics\n",
    "X_processed_df = pd.DataFrame(X_processed, columns=feature_names)\n",
    "X_train_sm = sm.add_constant(X_processed_df)\n",
    "\n",
    "X_train_sm.index = y.index  # Align the indices\n",
    "model_sm = sm.OLS(y, X_train_sm).fit()\n",
    "\n",
    "model_sm.summary()"
   ]
  },
  {
   "cell_type": "code",
   "execution_count": null,
   "metadata": {},
   "outputs": [],
   "source": [
    "from statsmodels.stats.outliers_influence import variance_inflation_factor\n",
    "\n",
    "# Calculate VIF for each predictor\n",
    "vif_data = pd.DataFrame()\n",
    "vif_data[\"feature\"] = X_train_sm.columns\n",
    "vif_data[\"VIF\"] = [variance_inflation_factor(X_train_sm.values, i) for i in range(X_train_sm.shape[1])]\n",
    "\n",
    "vif_data.sort_values('VIF', ascending=False)"
   ]
  },
  {
   "cell_type": "markdown",
   "metadata": {},
   "source": [
    "# Feature Importance"
   ]
  },
  {
   "cell_type": "code",
   "execution_count": null,
   "metadata": {},
   "outputs": [],
   "source": [
    "# importances = pd.Series(model.coef_, index=X.columns)\n",
    "\n",
    "# Train a Random Forest Regressor to determine feature importance\n",
    "rf_model = RandomForestRegressor(random_state=42)\n",
    "rf_model.fit(X_processed_df, y)\n",
    "\n",
    "# Predict on the training data\n",
    "y_train_pred = rf_model.predict(X_processed_df)\n",
    "\n",
    "# Calculate R² score on training data\n",
    "r2_train = r2_score(y, y_train_pred)\n",
    "\n",
    "print(f\"R² Score on Training Data: {r2_train:.4f}\")"
   ]
  },
  {
   "cell_type": "code",
   "execution_count": null,
   "metadata": {},
   "outputs": [],
   "source": [
    "# Get feature importances from the Random Forest model\n",
    "feature_importances = pd.Series(rf_model.feature_importances_, index=feature_names)\n",
    "\n",
    "# Plot feature importances\n",
    "plt.figure(figsize=(10, 6))\n",
    "feature_importances.sort_values().plot(kind='barh')\n",
    "plt.title('Feature Importances for Net Room Nights')\n",
    "plt.xlabel('Gini Importance')\n",
    "plt.ylabel('Feature')\n",
    "plt.show()\n"
   ]
  },
  {
   "cell_type": "markdown",
   "metadata": {},
   "source": [
    "# Trend Analysis"
   ]
  },
  {
   "cell_type": "code",
   "execution_count": null,
   "metadata": {},
   "outputs": [],
   "source": [
    "# Trend Analysis\n",
    "\n",
    "# Analyze trends over time to identify patterns and opportunities for growing Room Nights\n",
    "\n",
    "# Group data by Date and calculate the sum of Net Room Nights\n",
    "date_group = data.groupby('Date')['Net Room Nights'].sum().reset_index()\n",
    "\n",
    "# Plot the trend of Net Room Nights over time\n",
    "plt.figure(figsize=(14, 8))\n",
    "plt.plot(date_group['Date'], date_group['Net Room Nights'], marker='o')\n",
    "plt.title('Trend of Net Room Nights Over Time')\n",
    "plt.xlabel('Date')\n",
    "plt.ylabel('Net Room Nights')\n",
    "plt.xticks(rotation=45)\n",
    "plt.grid(True)\n",
    "plt.show()\n",
    "\n",
    "# Group data by Date and calculate the sum of Visits\n",
    "visits_group = data.groupby('Date')['Visits'].sum().reset_index()\n",
    "\n",
    "# Plot the trend of Visits over time\n",
    "plt.figure(figsize=(14, 8))\n",
    "plt.plot(visits_group['Date'], visits_group['Visits'], marker='o', color='orange')\n",
    "plt.title('Trend of Visits Over Time')\n",
    "plt.xlabel('Date')\n",
    "plt.ylabel('Visits')\n",
    "plt.xticks(rotation=45)\n",
    "plt.grid(True)\n",
    "plt.show()\n",
    "\n",
    "# Group data by Date and calculate the sum of Qualified Shoppers\n",
    "qualified_shoppers_group = data.groupby('Date')['Qualified Shoppers'].sum().reset_index()\n",
    "\n",
    "# Plot the trend of Qualified Shoppers over time\n",
    "plt.figure(figsize=(14, 8))\n",
    "plt.plot(qualified_shoppers_group['Date'], qualified_shoppers_group['Qualified Shoppers'], marker='o', color='green')\n",
    "plt.title('Trend of Qualified Shoppers Over Time')\n",
    "plt.xlabel('Date')\n",
    "plt.ylabel('Qualified Shoppers')\n",
    "plt.xticks(rotation=45)\n",
    "plt.grid(True)\n",
    "plt.show()\n",
    "\n",
    "# Group data by Date and calculate the sum of Gross Orders\n",
    "gross_orders_group = data.groupby('Date')['Gross Orders'].sum().reset_index()\n",
    "\n",
    "# Plot the trend of Gross Orders over time\n",
    "plt.figure(figsize=(14, 8))\n",
    "plt.plot(gross_orders_group['Date'], gross_orders_group['Gross Orders'], marker='o', color='red')\n",
    "plt.title('Trend of Gross Orders Over Time')\n",
    "plt.xlabel('Date')\n",
    "plt.ylabel('Gross Orders')\n",
    "plt.xticks(rotation=45)\n",
    "plt.grid(True)\n",
    "plt.show()\n",
    "\n",
    "# Group data by Date and calculate the sum of Net Orders\n",
    "net_orders_group = data.groupby('Date')['Net Orders'].sum().reset_index()\n",
    "\n",
    "# Plot the trend of Net Orders over time\n",
    "plt.figure(figsize=(14, 8))\n",
    "plt.plot(net_orders_group['Date'], net_orders_group['Net Orders'], marker='o', color='purple')\n",
    "plt.title('Trend of Net Orders Over Time')\n",
    "plt.xlabel('Date')\n",
    "plt.ylabel('Net Orders')\n",
    "plt.xticks(rotation=45)\n",
    "plt.grid(True)\n",
    "plt.show()\n",
    "\n",
    "# Analyze the relationship between Net Room Nights and other key metrics over time\n",
    "plt.figure(figsize=(14, 8))\n",
    "plt.plot(date_group['Date'], date_group['Net Room Nights'], marker='o', label='Net Room Nights')\n",
    "plt.plot(visits_group['Date'], visits_group['Visits'], marker='o', label='Visits', color='orange')\n",
    "plt.plot(qualified_shoppers_group['Date'], qualified_shoppers_group['Qualified Shoppers'], marker='o', label='Qualified Shoppers', color='green')\n",
    "plt.plot(gross_orders_group['Date'], gross_orders_group['Gross Orders'], marker='o', label='Gross Orders', color='red')\n",
    "plt.plot(net_orders_group['Date'], net_orders_group['Net Orders'], marker='o', label='Net Orders', color='purple')\n",
    "plt.title('Trend Analysis of Key Metrics Over Time')\n",
    "plt.xlabel('Date')\n",
    "plt.ylabel('Values')\n",
    "plt.xticks(rotation=45)\n",
    "plt.legend()\n",
    "plt.grid(True)\n",
    "plt.show()"
   ]
  },
  {
   "cell_type": "code",
   "execution_count": null,
   "metadata": {},
   "outputs": [],
   "source": []
  }
 ],
 "metadata": {
  "kernelspec": {
   "display_name": "base",
   "language": "python",
   "name": "python3"
  },
  "language_info": {
   "codemirror_mode": {
    "name": "ipython",
    "version": 3
   },
   "file_extension": ".py",
   "mimetype": "text/x-python",
   "name": "python",
   "nbconvert_exporter": "python",
   "pygments_lexer": "ipython3",
   "version": "3.12.7"
  }
 },
 "nbformat": 4,
 "nbformat_minor": 2
}
